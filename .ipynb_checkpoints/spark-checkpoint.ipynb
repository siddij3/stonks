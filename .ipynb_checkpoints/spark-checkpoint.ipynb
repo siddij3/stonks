{
 "cells": [
  {
   "cell_type": "code",
   "execution_count": 3,
   "id": "3e7c55ac-c8b3-49a9-b9f3-2f4d0711f705",
   "metadata": {},
   "outputs": [],
   "source": [
    "## CELL 1\n",
    "import findspark\n",
    "findspark.init()\n",
    "import pyspark\n",
    "findspark.find()\n",
    "\n",
    "from pyspark import SparkContext, SparkConf\n",
    "from pyspark.sql import SparkSession, SQLContext"
   ]
  },
  {
   "cell_type": "code",
   "execution_count": null,
   "id": "0e05a7f7-e812-4c83-9e1a-abaafcf8b571",
   "metadata": {},
   "outputs": [],
   "source": [
    "\n",
    "# conf = pyspark.SparkConf().setAppName('appName').setMaster('local')\n",
    "# sc = pyspark.SparkContext(conf=conf)\n",
    "# spark = SparkSession(sc)"
   ]
  },
  {
   "cell_type": "code",
   "execution_count": 2,
   "id": "9266e4f5",
   "metadata": {},
   "outputs": [],
   "source": [
    "def connect_to_sql(\n",
    "    spark, jdbc_hostname, jdbc_port, database, data_table, username, password\n",
    "):\n",
    "    jdbc_url = \"jdbc:mysql://{0}:{1}/{2}\".format(jdbc_hostname, jdbc_port, database)\n",
    "\n",
    "    connection_details = {\n",
    "        \"user\": username,\n",
    "        \"password\": password,\n",
    "        \"driver\": \"com.mysql.jdbc.Driver\",\n",
    "    }\n",
    "\n",
    "    df = spark.read.jdbc(url=jdbc_url, table=data_table, properties=connection_details)\n",
    "    return df"
   ]
  },
  {
   "cell_type": "code",
   "execution_count": 5,
   "id": "5614b1c5-e6e3-48f0-abb5-3b1b3e84fd60",
   "metadata": {},
   "outputs": [],
   "source": [
    "spark = SparkSession \\\n",
    "        .builder \\\n",
    "        .appName('test') \\\n",
    "        .master('local[*]') \\\n",
    "        .enableHiveSupport() \\\n",
    "        .config(\"spark.driver.extraClassPath\", \"C:\\\\Users\\\\junai\\\\Documents\\\\Projects\\\\mysql-connector-j-8.2.0\") \\\n",
    "        .getOrCreate()"
   ]
  },
  {
   "cell_type": "code",
   "execution_count": 6,
   "id": "7daad689",
   "metadata": {},
   "outputs": [
    {
     "data": {
      "text/html": [
       "\n",
       "            <div>\n",
       "                <p><b>SparkSession - hive</b></p>\n",
       "                \n",
       "        <div>\n",
       "            <p><b>SparkContext</b></p>\n",
       "\n",
       "            <p><a href=\"http://DESKTOP-7DFN6O3.mshome.net:4040\">Spark UI</a></p>\n",
       "\n",
       "            <dl>\n",
       "              <dt>Version</dt>\n",
       "                <dd><code>v3.4.1</code></dd>\n",
       "              <dt>Master</dt>\n",
       "                <dd><code>local[*]</code></dd>\n",
       "              <dt>AppName</dt>\n",
       "                <dd><code>test</code></dd>\n",
       "            </dl>\n",
       "        </div>\n",
       "        \n",
       "            </div>\n",
       "        "
      ],
      "text/plain": [
       "<pyspark.sql.session.SparkSession at 0x1912eeb3100>"
      ]
     },
     "execution_count": 6,
     "metadata": {},
     "output_type": "execute_result"
    }
   ],
   "source": [
    "df = connect_to_sql(spark, 'localhost', 336, <database_name>, <table_name>, <user>, <password>)"
   ]
  },
  {
   "cell_type": "code",
   "execution_count": null,
   "id": "d9ba4c53-6d54-4877-9358-f7623fc14ded",
   "metadata": {},
   "outputs": [],
   "source": []
  }
 ],
 "metadata": {
  "kernelspec": {
   "display_name": "Python 3 (ipykernel)",
   "language": "python",
   "name": "python3"
  },
  "language_info": {
   "codemirror_mode": {
    "name": "ipython",
    "version": 3
   },
   "file_extension": ".py",
   "mimetype": "text/x-python",
   "name": "python",
   "nbconvert_exporter": "python",
   "pygments_lexer": "ipython3",
   "version": "3.10.0"
  }
 },
 "nbformat": 4,
 "nbformat_minor": 5
}
